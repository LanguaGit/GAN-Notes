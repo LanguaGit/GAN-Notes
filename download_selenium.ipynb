{
 "cells": [
  {
   "cell_type": "markdown",
   "metadata": {},
   "source": [
    "### Google Image download with full-scroll"
   ]
  },
  {
   "cell_type": "code",
   "execution_count": 1,
   "metadata": {},
   "outputs": [],
   "source": [
    "from selenium import webdriver\n",
    "from selenium.webdriver.common.desired_capabilities import DesiredCapabilities\n",
    "from selenium.webdriver.common.keys import Keys\n",
    "import os\n",
    "import json\n",
    "from urllib.request import *\n",
    "import sys\n",
    "import time"
   ]
  },
  {
   "cell_type": "markdown",
   "metadata": {},
   "source": [
    "As you are using Selenium 3.8.0 you have to use GeckoDriver mandatorily. But again as you are using Firefox v46.0 you have to set the capability marionette to False through `DesiredCapabilities()` as follows :\n",
    "\n",
    "```python\n",
    "cap = DesiredCapabilities().FIREFOX\n",
    "cap[\"marionette\"] = True\n",
    "```\n",
    "\n",
    "**Current version**\n",
    "\n",
    "- `geckodriver` : v0.24.0\n",
    "\n",
    "- `FireFox` : 68.0.1"
   ]
  },
  {
   "cell_type": "code",
   "execution_count": 2,
   "metadata": {},
   "outputs": [],
   "source": [
    "# adding path to geckodriver to the OS environment variable\n",
    "os.environ[\"PATH\"] += os.pathsep + os.getcwd()\n",
    "download_path = \"images/\""
   ]
  },
  {
   "cell_type": "code",
   "execution_count": 3,
   "metadata": {},
   "outputs": [],
   "source": [
    "searchtext = \"t shirt transparent background\"\n",
    "searchtext = searchtext.split(' ')\n",
    "searchtext = '+'.join(searchtext)\n",
    "\n",
    "# number_of_scrolls * 400 images will be opened in the browser\n",
    "num_requested = 500\n",
    "number_of_scrolls = num_requested / 400 + 1 "
   ]
  },
  {
   "cell_type": "code",
   "execution_count": 4,
   "metadata": {},
   "outputs": [],
   "source": [
    "if not os.path.exists(download_path + searchtext.replace(\"+\", \"_\")):\n",
    "    os.makedirs(download_path + searchtext.replace(\"+\", \"_\"))"
   ]
  },
  {
   "cell_type": "code",
   "execution_count": 5,
   "metadata": {},
   "outputs": [],
   "source": [
    "url = \"https://www.google.co.in/search?q=\"+searchtext+\"&source=lnms&tbm=isch\"\n",
    "# driver = webdriver.Firefox()\n",
    "# driver = webdriver.Firefox(capabilities=cap) # executable_path=\"C:\\\\path\\\\to\\\\geckodriver.exe\"\n",
    "driver = webdriver.Firefox(executable_path=\"./geckodriver\")\n",
    "driver.get(url)"
   ]
  },
  {
   "cell_type": "code",
   "execution_count": 6,
   "metadata": {},
   "outputs": [],
   "source": [
    "headers = {}\n",
    "headers['User-Agent'] = \"Mozilla/5.0 (Windows NT 6.1) AppleWebKit/537.36 (KHTML, like Gecko) Chrome/41.0.2228.0 Safari/537.36\"\n",
    "extensions = {\"jpg\", \"jpeg\", \"png\"} #, \"gif\"\n",
    "img_count = 0\n",
    "downloaded_img_count = 0"
   ]
  },
  {
   "cell_type": "code",
   "execution_count": 7,
   "metadata": {},
   "outputs": [
    {
     "name": "stdout",
     "output_type": "stream",
     "text": [
      "Less images found: Message: Element <input id=\"smb\" class=\"ksb\" type=\"button\"> could not be scrolled into view\n",
      "\n",
      "if it seems that scrolling is done, just pass to next step.\n"
     ]
    }
   ],
   "source": [
    "for _ in range(int(number_of_scrolls)):\n",
    "    for __ in range(10):\n",
    "        # multiple scrolls needed to show all 400 images\n",
    "        driver.execute_script(\"window.scrollBy(0, 1000000)\")\n",
    "        time.sleep(0.2)\n",
    "    # to load next 400 images\n",
    "    time.sleep(0.5)\n",
    "    try:\n",
    "        driver.find_element_by_xpath(\"//input[@value='결과 더보기']\").click()\n",
    "    except Exception as e:\n",
    "        print (\"Less images found: {}\".format(e))\n",
    "        print (\"if it seems that scrolling is done, just pass to next step.\")\n",
    "        break"
   ]
  },
  {
   "cell_type": "code",
   "execution_count": 8,
   "metadata": {},
   "outputs": [
    {
     "name": "stdout",
     "output_type": "stream",
     "text": [
      "Total images: 493\n",
      "\n"
     ]
    }
   ],
   "source": [
    "imges = driver.find_elements_by_xpath('//div[contains(@class,\"rg_meta\")]')\n",
    "print (\"Total images: {}\\n\".format(len(imges)))"
   ]
  },
  {
   "cell_type": "code",
   "execution_count": null,
   "metadata": {},
   "outputs": [],
   "source": [
    "for img in imges:\n",
    "    img_count += 1\n",
    "    img_url = json.loads(img.get_attribute('innerHTML'))[\"ou\"]\n",
    "    img_type = json.loads(img.get_attribute('innerHTML'))[\"ity\"]\n",
    "    print (\"Downloading image {}:{}\".format(img_count,img_url))\n",
    "    try:\n",
    "        if img_type not in extensions:\n",
    "            img_type = \"jpg\"\n",
    "        req = Request(img_url, headers=headers)\n",
    "        raw_img = urlopen(req).read()\n",
    "        f = open(download_path+searchtext.replace(\"+\", \"_\")+\"/\"+str(downloaded_img_count)+\".\"+img_type, \"wb\")\n",
    "        f.write(raw_img)\n",
    "        f.close\n",
    "        downloaded_img_count += 1\n",
    "    except Exception as e:\n",
    "        print (\"Download failed: {}\".format(e))\n",
    "    finally:\n",
    "        print\n",
    "    if downloaded_img_count >= num_requested:\n",
    "        break\n",
    "\n",
    "print(\"download complete.\")\n",
    "print(\"Total downloaded: {}/{}\".format(downloaded_img_count,img_count))\n",
    "driver.quit()"
   ]
  },
  {
   "cell_type": "markdown",
   "metadata": {},
   "source": [
    "---"
   ]
  },
  {
   "cell_type": "code",
   "execution_count": 10,
   "metadata": {},
   "outputs": [
    {
     "name": "stdout",
     "output_type": "stream",
     "text": [
      "download complete.\n",
      "Total downloaded: 485/493\n"
     ]
    }
   ],
   "source": [
    "print(\"download complete.\")\n",
    "print(\"Total downloaded: {}/{}\".format(downloaded_img_count,img_count))\n",
    "driver.quit()"
   ]
  },
  {
   "cell_type": "code",
   "execution_count": null,
   "metadata": {},
   "outputs": [],
   "source": []
  }
 ],
 "metadata": {
  "kernelspec": {
   "display_name": "Python 3",
   "language": "python",
   "name": "python3"
  },
  "language_info": {
   "codemirror_mode": {
    "name": "ipython",
    "version": 3
   },
   "file_extension": ".py",
   "mimetype": "text/x-python",
   "name": "python",
   "nbconvert_exporter": "python",
   "pygments_lexer": "ipython3",
   "version": "3.6.8"
  }
 },
 "nbformat": 4,
 "nbformat_minor": 4
}
